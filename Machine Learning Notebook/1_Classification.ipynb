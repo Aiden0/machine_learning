{
 "cells": [
  {
   "cell_type": "markdown",
   "metadata": {},
   "source": [
    "#  Data and probaility distrbutions"
   ]
  },
  {
   "cell_type": "markdown",
   "metadata": {},
   "source": [
    "Let's assume you have some data(1D or univarinte for the meantime), lets call $X = {x^t}^N_{t=1}$, which is a N amount of 1D data. With $x^1$, being the first data point. We can say this data follows some density estimation or probaility distrubiton p(x). Lets assume that each $x^t$ is indepdent and identically disbtued(iid) sample. This proability distrubtion could be anything, but we can maybe assume some things. Lets work with some real data, i.e using the famous iris data and plot it.\n"
   ]
  },
  {
   "cell_type": "code",
   "execution_count": 2,
   "metadata": {
    "collapsed": true
   },
   "outputs": [],
   "source": [
    "import numpy as np\n",
    "import scipy.io as sio\n",
    "import matplotlib.pyplot as plt\n",
    "from matplotlib.colors import LogNorm\n",
    "from sklearn import mixture\n",
    "from sklearn import datasets\n",
    "import numpy as np\n",
    "from sklearn import metrics\n",
    "import math"
   ]
  },
  {
   "cell_type": "code",
   "execution_count": 3,
   "metadata": {},
   "outputs": [
    {
     "data": {
      "text/plain": [
       "<matplotlib.text.Text at 0x7f893fb66668>"
      ]
     },
     "execution_count": 3,
     "metadata": {},
     "output_type": "execute_result"
    },
    {
     "data": {
      "image/png": "[encoded data removed]",
      "text/plain": [
       "<matplotlib.figure.Figure at 0x7f893fb31fd0>"
      ]
     },
     "metadata": {},
     "output_type": "display_data"
    }
   ],
   "source": [
    "#import irsis datasets\n",
    "iris = datasets.load_iris()\n",
    "#only the first feature\n",
    "X=iris.data[:, :1]\n",
    "Y=iris.target\n",
    "#only two plants\n",
    "Y=Y[0:50]\n",
    "X = X[0:50]\n",
    "\n",
    "#plot normalised histogram plt irsis data\n",
    "plt.hist(X[Y==0],bins='auto',normed=1)\n",
    "plt.xlabel(\"x-data point value\")\n",
    "plt.ylabel(\"Normalised counts of x values in a box\")\n",
    "# plt.hist(X[Y==1],bins='auto',normed=1)"
   ]
  },
  {
   "cell_type": "markdown",
   "metadata": {},
   "source": [
    "You can see we have imported some plant data and made a histogram which bins or counts how many points of patricular value of x fall within certain range of x values. I.e 0-1,1-2,etc. Looking at this first glance it seems like this data follows a Gaussian distrbution $N(\\mu, \\sigma^2)$:\n",
    "\\begin{align}\n",
    "p(x) = \\frac{1}{\\sqrt{2\\pi}\\sigma}exp\\left( -\\frac{(x-\\mu)^2}{2\\sigma^2} \\right)\n",
    "\\end{align}\n",
    "\n",
    "where $E[X] = \\mu$ is the mean and $Var(x)=\\sigma^2$ is the variance or the root of the standard deviation. A quick search on google can tell you the formulas of Var and E. Assuming these formulas lets determine the variance and mean of the data and plot the gassuian.  "
   ]
  },
  {
   "cell_type": "code",
   "execution_count": 28,
   "metadata": {},
   "outputs": [
    {
     "data": {
      "text/plain": [
       "(array([ 0.46666667,  0.56      ,  0.84      ,  1.49333333,  0.37333333,\n",
       "         0.65333333,  0.28      ]),\n",
       " array([ 4.3       ,  4.51428571,  4.72857143,  4.94285714,  5.15714286,\n",
       "         5.37142857,  5.58571429,  5.8       ]),\n",
       " <a list of 7 Patch objects>)"
      ]
     },
     "execution_count": 28,
     "metadata": {},
     "output_type": "execute_result"
    },
    {
     "data": {
      "image/png": "[encoded data removed]",
      "text/plain": [
       "<matplotlib.figure.Figure at 0x7f76401cd780>"
      ]
     },
     "metadata": {},
     "output_type": "display_data"
    }
   ],
   "source": [
    "var = np.cov(X[Y==0],rowvar=False)\n",
    "mu = np.mean(X[Y==0])\n",
    "#Make linear space of x data points\n",
    "x=np.linspace(min(X)*0.9,max(X)*1.1,100)\n",
    "#Determine Gaussian from x\n",
    "probx = 1/math.sqrt(2*np.pi*var)*np.exp(-(x-mu)**2/(2*var))\n",
    "#plot\n",
    "plt.plot(x,probx)\n",
    "plt.hist(X[Y==0],bins='auto',normed=1)"
   ]
  },
  {
   "cell_type": "markdown",
   "metadata": {},
   "source": [
    "Not too bad, I am sure if we had more data it would fit a lot nicer, I reference [Central Limit Theorm](https://en.wikipedia.org/wiki/Central_limit_theorem) here. \n",
    "\n",
    "Now the question is, how did we figure out the formulas for $E[X] = \\mu$ is the mean and $Var(x)=\\sigma^2$. Well we first assuming that that x are instances drawn from probaility density family, i.e  $x \\sim p(x|\\theta)$, where $\\theta$ is some model parameter. This is also known as the liklehood, $l(\\theta,X)$, as it is the probaility or likelehood of x given some model parameter $\\theta$. So writing this out:\n",
    "\n",
    "\\begin{align}\n",
    "l(\\theta,X) = p(X|\\theta) = \\prod_{t=1}^N p(x^t|\\theta) \\ \\ \\text{(Assuming $x^t$ is indepdent) }\n",
    "\\end{align}\n",
    "\n",
    "Assuming a indepdent $x^t$(i.e each x data point is not affect by other x data points) means that the total proability is just multiple of indepdent liklehoods. Thus if we find a $\\theta$ which makes sampling $x^T$ from $P(x|\\theta)$ as likely as possible then will find the Maximum liklehood estimation of $\\theta$. So following on on our example if we assume that our model is a gaussian i.e $x^t \\sim N(\\mu, \\sigma^2)$ we obtain:\n",
    "\n",
    "\\begin{align}\n",
    "p(X|\\mu,\\sigma) = \\frac{1}{(2\\pi)^{N/2}\\sigma^N}exp\\left( \\frac{-1}{2\\sigma^2}\\sum_t(x^t-\\mu)^2 \\right)\n",
    "\\end{align}\n",
    "\n",
    "So by maximising $p(X|\\mu,\\sigma)$, we will get the most probable $\\mu$ and $\\sigma$ from our data. We can maximise easily by setting the dervative to zero. But first lets find the log likleyhood of everything to give us a simplier equation:\n",
    "\n",
    "\\begin{align}\n",
    "log(p(X|\\mu,\\sigma)) = -\\frac{N}{2}log(2\\pi)-Nlog(\\sigma) -\\frac{1}{2\\sigma^2}\\sum_t(x^t-\\mu)^2 \n",
    "\\end{align}\n",
    "\n",
    "Finding the maximum for $\\mu$:\n",
    "\n",
    "\\begin{align}\n",
    "\\frac{\\partial}{\\partial \\mu }log(p(X|\\mu,\\sigma)) =  -\\frac{1}{\\sigma^2}\\sum_t(x^t-\\mu) \\\\ \n",
    "0 =  \\sum_t(x^t)-\\sum_t\\mu) \\\\ \n",
    "\\mu =  \\frac{\\sum_t(x^t)}{N} \\\\ \n",
    "\\end{align}\n",
    "\n",
    "And finding the maximum for $\\sigma$:\n",
    "\n",
    "\\begin{align}\n",
    "\\frac{\\partial}{\\partial \\sigma } log(p(X|\\mu,\\sigma)) = -\\frac{N}{\\sigma} +\\frac{\\sum_t(x^t-\\mu)^2}{\\sigma^3} \\\\\n",
    "0 = -N +\\frac{\\sum_t(x^t-\\mu)^2}{\\sigma^2} \\\\\n",
    "\\sigma^2 = \\frac{\\sum_t(x^t-\\mu)^2}{N} \n",
    "\\end{align}\n",
    "\n",
    "And there we have it. \n"
   ]
  },
  {
   "cell_type": "markdown",
   "metadata": {
    "collapsed": true
   },
   "source": [
    "#  Classfication\n",
    "So assuming some set of data follows some proability distrbution $C_0$, however what if we have some other set of data which follows some other proability distrbution $C_0$. Retreiving a new data point, we would like to know the which out of these 2 distrbutions this new data point falls into. I.e the posterior proability $p(C_i|x)$ which is the proability of being in class $C_i$, given some data point $x$. Using [Bayes Theorem](https://en.wikipedia.org/wiki/Bayes%27_theorem) we obtain:\n",
    "$$ p(C_i|x)= \\frac{p(x|C_i)P(C_i)}{p(x)} =  \\frac{p(x|C_i)P(C_i)}{\\sum^K_{k=0} p(x|C_i)P(C_i)}$$\n",
    "\n",
    "we can makine $p(x) = \\sum^K_{k=0} p(x|C_i)P(C_i)$ using the [Law of total proability](https://en.wikipedia.org/wiki/Law_of_total_probability). This can be determined using liklehood function and the prior proability $P(C_i)$, which tells us the likely values that the classes may take before\n",
    "looking at the sample data. For example might be more proabale to find people without cancer rather than people with cancer. \n",
    "\n",
    "Now bring the iris data back for example, can assume that the data from each class follows some gaussian distbrituion i.e $p(x|C_i) = N(\\mu, \\sigma^2)$. We can determine $p(x|C_i)$ for each class using the maximum liklehoods we calculated previously. "
   ]
  },
  {
   "cell_type": "code",
   "execution_count": 5,
   "metadata": {},
   "outputs": [
    {
     "data": {
      "image/png": "[encoded data removed]",
      "text/plain": [
       "<matplotlib.figure.Figure at 0x7f893d78a7f0>"
      ]
     },
     "metadata": {},
     "output_type": "display_data"
    }
   ],
   "source": [
    "X=iris.data[:, :1]\n",
    "Y=iris.target\n",
    "#only two plants/classes\n",
    "Y=Y[0:100]\n",
    "X = X[0:100]\n",
    "#new x data which is linearly spaced\n",
    "x = np.linspace(np.min(X),np.max(X),200)\n",
    "\n",
    "#Find the variances for each class\n",
    "var1 = np.cov(X[Y==0],rowvar=False)\n",
    "var2 = np.cov(X[Y==1],rowvar=False)\n",
    "\n",
    "#Find the means for each class\n",
    "m1 = np.mean(X[Y==0])\n",
    "m2 = np.mean(X[Y==1])\n",
    "\n",
    "#Given our model is gaussian distrbution\n",
    "def gaussian(x, mean, cov):\n",
    "  xm=np.reshape((x-mean), (-1, 1))\n",
    "  px=1/np.sqrt(2*np.pi*cov)*np.exp(-xm**2/(2*cov))\n",
    "  return px\n",
    "\n",
    "#Determine maximum liklehoods for each class\n",
    "#Assuming gaussian distrbution\n",
    "#Given a set x\n",
    "# I.e P(x|C1) and P(x|C2)=Gaussian\n",
    "P1 = gaussian(x,m1,var1)\n",
    "P2 = gaussian(x,m2,var2)\n",
    "\n",
    "plt.plot(x,P1,'*')\n",
    "plt.plot(x,P2,'*')\n",
    "\n",
    "#plot normalised histogram plt irsis data\n",
    "plt.hist(X[Y==0],bins='auto',normed=1)\n",
    "plt.hist(X[Y==1],bins='auto',normed=1)\n",
    "\n",
    "plt.show()"
   ]
  },
  {
   "cell_type": "markdown",
   "metadata": {},
   "source": [
    "As you can see we determine the likehood of the linear spaced data x for each class. You can probaly also see from this graph that where the distrubtions cross over is also probaly where data point x switches from 1 class to another. This point is sometimes refered to as the discrimant. \n",
    "\n",
    "For this case we can assume that the prior proability $P(C_0)=P(C_1)=0.5$ are equal. But for a more general case we can assume that the proabilities $P(C_i)$ follow a Bernoulli distribution(Either event occurs or does not). The maximum liklehood of this distbrution can be estaimted to be \n",
    "\n",
    "$$ P(C_i) = \\frac{\\sum_t r^t_i}{N}$$\n",
    "where t is each data point of a total of N data points and $r^t_i$ is 1 for corsponding classes $C_i$ and 0 for not corsponding classes. So for this case we had 50 $C_0$ and 50 $C_1$, so:\n",
    "\n",
    "\\begin{align}\n",
    "P(C_0) = \\frac{\\sum_t r^t_0}{N} = \\frac{50}{100} = 0.5\\\\\n",
    "P(C_1) = \\frac{\\sum_t r^t_1}{N} = \\frac{50}{100} = 0.5\n",
    "\\end{align}\n",
    "\n",
    "Now to determine the posteriors, having same priors, the priors cancel out and \n"
   ]
  },
  {
   "cell_type": "code",
   "execution_count": null,
   "metadata": {
    "collapsed": true
   },
   "outputs": [],
   "source": []
  }
 ],
 "metadata": {
  "kernelspec": {
   "display_name": "Python 3",
   "language": "python",
   "name": "python3"
  },
  "language_info": {
   "codemirror_mode": {
    "name": "ipython",
    "version": 3
   },
   "file_extension": ".py",
   "mimetype": "text/x-python",
   "name": "python",
   "nbconvert_exporter": "python",
   "pygments_lexer": "ipython3",
   "version": "3.5.2"
  }
 },
 "nbformat": 4,
 "nbformat_minor": 2
}
