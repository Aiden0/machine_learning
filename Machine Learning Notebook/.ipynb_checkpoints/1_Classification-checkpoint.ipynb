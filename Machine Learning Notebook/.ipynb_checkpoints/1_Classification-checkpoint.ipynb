{
 "cells": [
  {
   "cell_type": "markdown",
   "metadata": {},
   "source": [
    "#  Classifcation of data"
   ]
  },
  {
   "cell_type": "code",
   "execution_count": 14,
   "metadata": {
    "collapsed": true
   },
   "outputs": [],
   "source": [
    "import numpy as np\n",
    "import scipy.io as sio\n",
    "import matplotlib.pyplot as plt\n",
    "from matplotlib.colors import LogNorm\n",
    "from sklearn import mixture\n",
    "from sklearn import datasets\n",
    "import numpy as np\n",
    "from sklearn import metrics\n",
    "import math"
   ]
  },
  {
   "cell_type": "markdown",
   "metadata": {},
   "source": [
    "Let's assume you have some data(1D or univarinte for the meantime), lets call $X = {x^t}^N_{t=1}$, which is a N amount of 1D data. With $x^1$, being the first data point. We can say this data follows some density estimation or probaility distrubiton p(x). Lets assume that each $X$ is indepdent and identically disbtued(iid) sample. This proability distrubtion could be anything, but we can maybe assume some things. Lets work with real data, i.e using the famous iris data.\n"
   ]
  },
  {
   "cell_type": "code",
   "execution_count": 11,
   "metadata": {},
   "outputs": [
    {
     "data": {
      "text/plain": [
       "<matplotlib.text.Text at 0x7f7640398d30>"
      ]
     },
     "execution_count": 11,
     "metadata": {},
     "output_type": "execute_result"
    },
    {
     "data": {
      "image/png": "[encoded data removed]",
      "text/plain": [
       "<matplotlib.figure.Figure at 0x7f764038d0b8>"
      ]
     },
     "metadata": {},
     "output_type": "display_data"
    }
   ],
   "source": [
    "#import irsis datasets\n",
    "iris = datasets.load_iris()\n",
    "#only the first feature\n",
    "X=iris.data[:, :1]\n",
    "Y=iris.target\n",
    "#only two plants\n",
    "Y=Y[0:50]\n",
    "X = X[0:50]\n",
    "\n",
    "#plot normalised histogram plt irsis data\n",
    "plt.hist(X[Y==0],bins='auto',normed=1)\n",
    "plt.xlabel(\"x-data point value\")\n",
    "plt.ylabel(\"Normalised counts of x values in a box\")\n",
    "# plt.hist(X[Y==1],bins='auto',normed=1)"
   ]
  },
  {
   "cell_type": "markdown",
   "metadata": {},
   "source": [
    "You can see we have imported some plant data and made a histogram which bins or counts how many points of patricular value of x fall within certain range of x values. I.e 0-1,1-2,etc. Looking at this first glance it seems like this data follows a Gaussian distrbution $N(\\mu, \\sigma^2)$:\n",
    "\\begin{align}\n",
    "p(x) = \\frac{1}{\\sqrt{2\\pi}\\sigma}e^{-\\frac{(x-\\mu)^2}{2\\sigma^2}}\n",
    "\\end{align}\n",
    "\n",
    "where $E[X] = \\mu$ is the mean and $Var(x)=\\sigma^2$ is the variance or the root of the standard deviation. A quick search on google can tell you the formulas of Var and E[]. Assuming these formulas lets determine the variance and mean of the data and plot the gassuian.  "
   ]
  },
  {
   "cell_type": "code",
   "execution_count": 28,
   "metadata": {},
   "outputs": [
    {
     "data": {
      "text/plain": [
       "(array([ 0.46666667,  0.56      ,  0.84      ,  1.49333333,  0.37333333,\n",
       "         0.65333333,  0.28      ]),\n",
       " array([ 4.3       ,  4.51428571,  4.72857143,  4.94285714,  5.15714286,\n",
       "         5.37142857,  5.58571429,  5.8       ]),\n",
       " <a list of 7 Patch objects>)"
      ]
     },
     "execution_count": 28,
     "metadata": {},
     "output_type": "execute_result"
    },
    {
     "data": {
      "image/png": "[encoded data removed]",
      "text/plain": [
       "<matplotlib.figure.Figure at 0x7f76401cd780>"
      ]
     },
     "metadata": {},
     "output_type": "display_data"
    }
   ],
   "source": [
    "var = np.cov(X[Y==0],rowvar=False)\n",
    "mu = np.mean(X[Y==0])\n",
    "x=np.linspace(min(X)*0.9,max(X)*1.1,100)\n",
    "probx = 1/math.sqrt(2*np.pi*var)*np.exp(-(x-mu)**2/(2*var))\n",
    "plt.plot(x,probx)\n",
    "plt.hist(X[Y==0],bins='auto',normed=1)"
   ]
  },
  {
   "cell_type": "markdown",
   "metadata": {},
   "source": [
    "Not too bad, I am sure if we had more data it would fit a lot nicer, I reference [Central Limit Theorm](https://en.wikipedia.org/wiki/Central_limit_theorem) here. \n",
    "\n",
    "Now the question is, how did we figure out the formulas for $E[X] = \\mu$ is the mean and $Var(x)=\\sigma^2$. Well we first assuming that that x are instances drawn from probaility density family, i.e  $x ~ p(x|\\theta)$, where $\\theta$ is some model parameter. This is also known as the liklehood as it is the probaility or liklehood of x given some model parameter $\\theta$. Thus if we find a $\\theta$ which makes sampling $x^T$ from $P(x|\\theta)$ as likely as possible then will find the Maximum liklehood estimation of $\\theta$.\n",
    "\n",
    "By finding $\\theta$ "
   ]
  },
  {
   "cell_type": "code",
   "execution_count": null,
   "metadata": {
    "collapsed": true
   },
   "outputs": [],
   "source": [
    "We assume that x are instances drawn from some known\n",
    "probability density family, p(x|θ), defined up to parameters, θ\n",
    "\n",
    "We want to find θ that makes sampling x t from p(x|θ) as likely as\n",
    "possible. Because x t are independent, the likelihood of parameter θ given\n",
    "sample X is the product of the likelihoods of the individual points:"
   ]
  }
 ],
 "metadata": {
  "kernelspec": {
   "display_name": "Python 3",
   "language": "python",
   "name": "python3"
  },
  "language_info": {
   "codemirror_mode": {
    "name": "ipython",
    "version": 3
   },
   "file_extension": ".py",
   "mimetype": "text/x-python",
   "name": "python",
   "nbconvert_exporter": "python",
   "pygments_lexer": "ipython3",
   "version": "3.5.2"
  }
 },
 "nbformat": 4,
 "nbformat_minor": 2
}
